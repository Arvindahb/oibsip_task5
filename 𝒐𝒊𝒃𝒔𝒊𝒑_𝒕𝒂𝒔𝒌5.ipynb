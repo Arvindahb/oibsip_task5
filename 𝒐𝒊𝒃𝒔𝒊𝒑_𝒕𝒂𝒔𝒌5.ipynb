{
 "cells": [
  {
   "cell_type": "markdown",
   "id": "46344380",
   "metadata": {},
   "source": [
    "# SALES PREDICTION USING PYTHON"
   ]
  },
  {
   "cell_type": "markdown",
   "id": "beda8d2c",
   "metadata": {},
   "source": [
    "Task 5 - SALES PREDICTION USING PYTHON"
   ]
  },
  {
   "cell_type": "markdown",
   "id": "67ff1265",
   "metadata": {},
   "source": [
    "Name of the Intern - Arvinda HB"
   ]
  },
  {
   "cell_type": "code",
   "execution_count": 1,
   "id": "78db9750",
   "metadata": {},
   "outputs": [
    {
     "name": "stderr",
     "output_type": "stream",
     "text": [
      "C:\\Users\\Arvinda H B\\AppData\\Local\\Temp\\ipykernel_25460\\4095987331.py:11: DeprecationWarning: `import pandas_profiling` is going to be deprecated by April 1st. Please use `import ydata_profiling` instead.\n",
      "  from pandas_profiling import ProfileReport\n"
     ]
    }
   ],
   "source": [
    "import numpy as np\n",
    "import pandas as pd\n",
    "import matplotlib.pyplot as plt\n",
    "import seaborn as sns\n",
    "import pickle\n",
    "from sklearn.model_selection import train_test_split\n",
    "from sklearn.linear_model import LinearRegression\n",
    "from sklearn.model_selection import cross_val_score\n",
    "from sklearn import metrics\n",
    "from scipy import stats\n",
    "from pandas_profiling import ProfileReport\n",
    "from statsmodels.stats.outliers_influence import variance_inflation_factor\n",
    "from pycaret.regression import *"
   ]
  },
  {
   "cell_type": "code",
   "execution_count": 2,
   "id": "7adc9f01",
   "metadata": {},
   "outputs": [],
   "source": [
    "sales = pd.read_csv(\"Advertising.csv\")"
   ]
  },
  {
   "cell_type": "code",
   "execution_count": 3,
   "id": "3b581337",
   "metadata": {},
   "outputs": [
    {
     "data": {
      "text/plain": [
       "Unnamed: 0    0\n",
       "TV            0\n",
       "Radio         0\n",
       "Newspaper     0\n",
       "Sales         0\n",
       "dtype: int64"
      ]
     },
     "execution_count": 3,
     "metadata": {},
     "output_type": "execute_result"
    }
   ],
   "source": [
    "#Checking for null values in Data\n",
    "sales.isnull().sum()"
   ]
  },
  {
   "cell_type": "code",
   "execution_count": 4,
   "id": "13256f02",
   "metadata": {},
   "outputs": [
    {
     "data": {
      "text/html": [
       "<div>\n",
       "<style scoped>\n",
       "    .dataframe tbody tr th:only-of-type {\n",
       "        vertical-align: middle;\n",
       "    }\n",
       "\n",
       "    .dataframe tbody tr th {\n",
       "        vertical-align: top;\n",
       "    }\n",
       "\n",
       "    .dataframe thead th {\n",
       "        text-align: right;\n",
       "    }\n",
       "</style>\n",
       "<table border=\"1\" class=\"dataframe\">\n",
       "  <thead>\n",
       "    <tr style=\"text-align: right;\">\n",
       "      <th></th>\n",
       "      <th>Unnamed: 0</th>\n",
       "      <th>TV</th>\n",
       "      <th>Radio</th>\n",
       "      <th>Newspaper</th>\n",
       "      <th>Sales</th>\n",
       "    </tr>\n",
       "  </thead>\n",
       "  <tbody>\n",
       "    <tr>\n",
       "      <th>0</th>\n",
       "      <td>1</td>\n",
       "      <td>230.1</td>\n",
       "      <td>37.8</td>\n",
       "      <td>69.2</td>\n",
       "      <td>22.1</td>\n",
       "    </tr>\n",
       "    <tr>\n",
       "      <th>1</th>\n",
       "      <td>2</td>\n",
       "      <td>44.5</td>\n",
       "      <td>39.3</td>\n",
       "      <td>45.1</td>\n",
       "      <td>10.4</td>\n",
       "    </tr>\n",
       "    <tr>\n",
       "      <th>2</th>\n",
       "      <td>3</td>\n",
       "      <td>17.2</td>\n",
       "      <td>45.9</td>\n",
       "      <td>69.3</td>\n",
       "      <td>9.3</td>\n",
       "    </tr>\n",
       "    <tr>\n",
       "      <th>3</th>\n",
       "      <td>4</td>\n",
       "      <td>151.5</td>\n",
       "      <td>41.3</td>\n",
       "      <td>58.5</td>\n",
       "      <td>18.5</td>\n",
       "    </tr>\n",
       "    <tr>\n",
       "      <th>4</th>\n",
       "      <td>5</td>\n",
       "      <td>180.8</td>\n",
       "      <td>10.8</td>\n",
       "      <td>58.4</td>\n",
       "      <td>12.9</td>\n",
       "    </tr>\n",
       "  </tbody>\n",
       "</table>\n",
       "</div>"
      ],
      "text/plain": [
       "   Unnamed: 0     TV  Radio  Newspaper  Sales\n",
       "0           1  230.1   37.8       69.2   22.1\n",
       "1           2   44.5   39.3       45.1   10.4\n",
       "2           3   17.2   45.9       69.3    9.3\n",
       "3           4  151.5   41.3       58.5   18.5\n",
       "4           5  180.8   10.8       58.4   12.9"
      ]
     },
     "execution_count": 4,
     "metadata": {},
     "output_type": "execute_result"
    }
   ],
   "source": [
    "#Checking the First Five Values in the Data\n",
    "sales.head()"
   ]
  },
  {
   "cell_type": "code",
   "execution_count": 5,
   "id": "1ae2d3b6",
   "metadata": {},
   "outputs": [
    {
     "data": {
      "text/html": [
       "<div>\n",
       "<style scoped>\n",
       "    .dataframe tbody tr th:only-of-type {\n",
       "        vertical-align: middle;\n",
       "    }\n",
       "\n",
       "    .dataframe tbody tr th {\n",
       "        vertical-align: top;\n",
       "    }\n",
       "\n",
       "    .dataframe thead th {\n",
       "        text-align: right;\n",
       "    }\n",
       "</style>\n",
       "<table border=\"1\" class=\"dataframe\">\n",
       "  <thead>\n",
       "    <tr style=\"text-align: right;\">\n",
       "      <th></th>\n",
       "      <th>Unnamed: 0</th>\n",
       "      <th>TV</th>\n",
       "      <th>Radio</th>\n",
       "      <th>Newspaper</th>\n",
       "      <th>Sales</th>\n",
       "    </tr>\n",
       "  </thead>\n",
       "  <tbody>\n",
       "    <tr>\n",
       "      <th>195</th>\n",
       "      <td>196</td>\n",
       "      <td>38.2</td>\n",
       "      <td>3.7</td>\n",
       "      <td>13.8</td>\n",
       "      <td>7.6</td>\n",
       "    </tr>\n",
       "    <tr>\n",
       "      <th>196</th>\n",
       "      <td>197</td>\n",
       "      <td>94.2</td>\n",
       "      <td>4.9</td>\n",
       "      <td>8.1</td>\n",
       "      <td>9.7</td>\n",
       "    </tr>\n",
       "    <tr>\n",
       "      <th>197</th>\n",
       "      <td>198</td>\n",
       "      <td>177.0</td>\n",
       "      <td>9.3</td>\n",
       "      <td>6.4</td>\n",
       "      <td>12.8</td>\n",
       "    </tr>\n",
       "    <tr>\n",
       "      <th>198</th>\n",
       "      <td>199</td>\n",
       "      <td>283.6</td>\n",
       "      <td>42.0</td>\n",
       "      <td>66.2</td>\n",
       "      <td>25.5</td>\n",
       "    </tr>\n",
       "    <tr>\n",
       "      <th>199</th>\n",
       "      <td>200</td>\n",
       "      <td>232.1</td>\n",
       "      <td>8.6</td>\n",
       "      <td>8.7</td>\n",
       "      <td>13.4</td>\n",
       "    </tr>\n",
       "  </tbody>\n",
       "</table>\n",
       "</div>"
      ],
      "text/plain": [
       "     Unnamed: 0     TV  Radio  Newspaper  Sales\n",
       "195         196   38.2    3.7       13.8    7.6\n",
       "196         197   94.2    4.9        8.1    9.7\n",
       "197         198  177.0    9.3        6.4   12.8\n",
       "198         199  283.6   42.0       66.2   25.5\n",
       "199         200  232.1    8.6        8.7   13.4"
      ]
     },
     "execution_count": 5,
     "metadata": {},
     "output_type": "execute_result"
    }
   ],
   "source": [
    "#Checking the Last Five Values in the Data**\"\"\"\n",
    "sales.tail()"
   ]
  },
  {
   "cell_type": "code",
   "execution_count": 6,
   "id": "22dd0402",
   "metadata": {},
   "outputs": [
    {
     "data": {
      "text/plain": [
       "(200, 5)"
      ]
     },
     "execution_count": 6,
     "metadata": {},
     "output_type": "execute_result"
    }
   ],
   "source": [
    "#Dimensions of the Dataset\n",
    "sales.shape"
   ]
  },
  {
   "cell_type": "code",
   "execution_count": 7,
   "id": "8e5efa14",
   "metadata": {},
   "outputs": [
    {
     "data": {
      "text/html": [
       "<div>\n",
       "<style scoped>\n",
       "    .dataframe tbody tr th:only-of-type {\n",
       "        vertical-align: middle;\n",
       "    }\n",
       "\n",
       "    .dataframe tbody tr th {\n",
       "        vertical-align: top;\n",
       "    }\n",
       "\n",
       "    .dataframe thead th {\n",
       "        text-align: right;\n",
       "    }\n",
       "</style>\n",
       "<table border=\"1\" class=\"dataframe\">\n",
       "  <thead>\n",
       "    <tr style=\"text-align: right;\">\n",
       "      <th></th>\n",
       "      <th>Unnamed: 0</th>\n",
       "      <th>TV</th>\n",
       "      <th>Radio</th>\n",
       "      <th>Newspaper</th>\n",
       "      <th>Sales</th>\n",
       "    </tr>\n",
       "  </thead>\n",
       "  <tbody>\n",
       "    <tr>\n",
       "      <th>count</th>\n",
       "      <td>200.000000</td>\n",
       "      <td>200.000000</td>\n",
       "      <td>200.000000</td>\n",
       "      <td>200.000000</td>\n",
       "      <td>200.000000</td>\n",
       "    </tr>\n",
       "    <tr>\n",
       "      <th>mean</th>\n",
       "      <td>100.500000</td>\n",
       "      <td>147.042500</td>\n",
       "      <td>23.264000</td>\n",
       "      <td>30.554000</td>\n",
       "      <td>14.022500</td>\n",
       "    </tr>\n",
       "    <tr>\n",
       "      <th>std</th>\n",
       "      <td>57.879185</td>\n",
       "      <td>85.854236</td>\n",
       "      <td>14.846809</td>\n",
       "      <td>21.778621</td>\n",
       "      <td>5.217457</td>\n",
       "    </tr>\n",
       "    <tr>\n",
       "      <th>min</th>\n",
       "      <td>1.000000</td>\n",
       "      <td>0.700000</td>\n",
       "      <td>0.000000</td>\n",
       "      <td>0.300000</td>\n",
       "      <td>1.600000</td>\n",
       "    </tr>\n",
       "    <tr>\n",
       "      <th>25%</th>\n",
       "      <td>50.750000</td>\n",
       "      <td>74.375000</td>\n",
       "      <td>9.975000</td>\n",
       "      <td>12.750000</td>\n",
       "      <td>10.375000</td>\n",
       "    </tr>\n",
       "    <tr>\n",
       "      <th>50%</th>\n",
       "      <td>100.500000</td>\n",
       "      <td>149.750000</td>\n",
       "      <td>22.900000</td>\n",
       "      <td>25.750000</td>\n",
       "      <td>12.900000</td>\n",
       "    </tr>\n",
       "    <tr>\n",
       "      <th>75%</th>\n",
       "      <td>150.250000</td>\n",
       "      <td>218.825000</td>\n",
       "      <td>36.525000</td>\n",
       "      <td>45.100000</td>\n",
       "      <td>17.400000</td>\n",
       "    </tr>\n",
       "    <tr>\n",
       "      <th>max</th>\n",
       "      <td>200.000000</td>\n",
       "      <td>296.400000</td>\n",
       "      <td>49.600000</td>\n",
       "      <td>114.000000</td>\n",
       "      <td>27.000000</td>\n",
       "    </tr>\n",
       "  </tbody>\n",
       "</table>\n",
       "</div>"
      ],
      "text/plain": [
       "       Unnamed: 0          TV       Radio   Newspaper       Sales\n",
       "count  200.000000  200.000000  200.000000  200.000000  200.000000\n",
       "mean   100.500000  147.042500   23.264000   30.554000   14.022500\n",
       "std     57.879185   85.854236   14.846809   21.778621    5.217457\n",
       "min      1.000000    0.700000    0.000000    0.300000    1.600000\n",
       "25%     50.750000   74.375000    9.975000   12.750000   10.375000\n",
       "50%    100.500000  149.750000   22.900000   25.750000   12.900000\n",
       "75%    150.250000  218.825000   36.525000   45.100000   17.400000\n",
       "max    200.000000  296.400000   49.600000  114.000000   27.000000"
      ]
     },
     "execution_count": 7,
     "metadata": {},
     "output_type": "execute_result"
    }
   ],
   "source": [
    "#Describing the Dataset\n",
    "sales.describe()"
   ]
  },
  {
   "cell_type": "markdown",
   "id": "245aeaec",
   "metadata": {},
   "source": [
    "# Visualization of the Data"
   ]
  },
  {
   "cell_type": "code",
   "execution_count": 8,
   "id": "e701e388",
   "metadata": {},
   "outputs": [
    {
     "data": {
      "image/png": "[encoded data removed]",
      "text/plain": [
       "<Figure size 400x400 with 1 Axes>"
      ]
     },
     "metadata": {},
     "output_type": "display_data"
    }
   ],
   "source": [
    "#TV Sales Plotting\n",
    "\n",
    "plt.figure(figsize=(4,4))\n",
    "sns.scatterplot(data = sales, x = sales['TV'], y = sales['Sales'])\n",
    "plt.show()"
   ]
  },
  {
   "cell_type": "code",
   "execution_count": 9,
   "id": "5c6512bf",
   "metadata": {},
   "outputs": [
    {
     "data": {
      "image/png": "[encoded data removed]",
      "text/plain": [
       "<Figure size 400x400 with 1 Axes>"
      ]
     },
     "metadata": {},
     "output_type": "display_data"
    }
   ],
   "source": [
    "#Radio Sales Plotting\n",
    "\n",
    "plt.figure(figsize=(4,4))\n",
    "sns.scatterplot(data = sales, x = sales['Radio'], y = sales['Sales'])\n",
    "plt.show()"
   ]
  },
  {
   "cell_type": "code",
   "execution_count": 10,
   "id": "24ce3ab1",
   "metadata": {},
   "outputs": [
    {
     "data": {
      "image/png": "[encoded data removed]",
      "text/plain": [
       "<Figure size 400x400 with 1 Axes>"
      ]
     },
     "metadata": {},
     "output_type": "display_data"
    }
   ],
   "source": [
    "#Radio Sales Plotting\n",
    "\n",
    "plt.figure(figsize=(4,4))\n",
    "sns.scatterplot(data = sales, x = sales['Newspaper'], y = sales['Sales'])\n",
    "plt.show()"
   ]
  },
  {
   "cell_type": "markdown",
   "id": "16b04da9",
   "metadata": {},
   "source": [
    "# Data Modeling"
   ]
  },
  {
   "cell_type": "code",
   "execution_count": 11,
   "id": "1985c685",
   "metadata": {},
   "outputs": [
    {
     "name": "stdout",
     "output_type": "stream",
     "text": [
      "X Dimention:  (200, 3)\n",
      "Y Dimention:  (200,)\n"
     ]
    }
   ],
   "source": [
    "#Splitting the Dataset into Training and Testing\n",
    "\n",
    "X = sales.drop(['Unnamed: 0','Sales'], axis=1)\n",
    "Y = sales['Sales']\n",
    "print(\"X Dimention: \", X.shape)\n",
    "print(\"Y Dimention: \", Y.shape)\n",
    "X_train, X_test, Y_train, Y_test = train_test_split(X, Y, test_size=0.25, random_state=25)"
   ]
  },
  {
   "cell_type": "code",
   "execution_count": 12,
   "id": "64a1f4e8",
   "metadata": {},
   "outputs": [
    {
     "name": "stdout",
     "output_type": "stream",
     "text": [
      "X_Train Shape: (150, 3)\n",
      "X_Test Shape: (50, 3)\n",
      "Y_Train Shape: (150, 3)\n",
      "Y_Test Shape: (50,)\n"
     ]
    }
   ],
   "source": [
    "#Checking the Dimensions of Training and Testing Data\n",
    "\n",
    "print(\"X_Train Shape:\", X_train.shape)\n",
    "print(\"X_Test Shape:\", X_test.shape)\n",
    "print(\"Y_Train Shape:\", X_train.shape)\n",
    "print(\"Y_Test Shape:\", Y_test.shape)"
   ]
  },
  {
   "cell_type": "markdown",
   "id": "9f31afac",
   "metadata": {},
   "source": [
    "# Model Building"
   ]
  },
  {
   "cell_type": "code",
   "execution_count": 13,
   "id": "78514dd6",
   "metadata": {},
   "outputs": [],
   "source": [
    "#Creating the Model\n",
    "\n",
    "model = LinearRegression()\n",
    "model.fit(X_train,Y_train)\n",
    "pred = model.predict(X_test)"
   ]
  },
  {
   "cell_type": "markdown",
   "id": "3fd43596",
   "metadata": {},
   "source": [
    "# Model Testing"
   ]
  },
  {
   "cell_type": "code",
   "execution_count": 14,
   "id": "2f702e85",
   "metadata": {},
   "outputs": [
    {
     "name": "stdout",
     "output_type": "stream",
     "text": [
      "MAE:  1.3589661756175428\n",
      "RMSE:  1.7670302705342993\n",
      "R-Squared:  0.867331723648149\n"
     ]
    }
   ],
   "source": [
    "#Testing the Model\n",
    "\n",
    "print('MAE: ', metrics.mean_absolute_error(pred,Y_test))\n",
    "print('RMSE: ', np.sqrt(metrics.mean_squared_error(pred,Y_test)))\n",
    "print('R-Squared: ', metrics.r2_score(pred,Y_test))"
   ]
  },
  {
   "cell_type": "markdown",
   "id": "6968d97d",
   "metadata": {},
   "source": [
    "# Saving Model"
   ]
  },
  {
   "cell_type": "code",
   "execution_count": 15,
   "id": "43fba980",
   "metadata": {},
   "outputs": [
    {
     "name": "stdout",
     "output_type": "stream",
     "text": [
      "Saved the Model\n"
     ]
    }
   ],
   "source": [
    "#Saving the Model\n",
    "\n",
    "filename = \"Linear_Regression.pkl\"\n",
    "pickle.dump(model, open(filename, 'wb'))\n",
    "print(\"Saved the Model\")"
   ]
  },
  {
   "cell_type": "code",
   "execution_count": 16,
   "id": "8f78fbf9",
   "metadata": {},
   "outputs": [],
   "source": [
    "#Accuracy of the Linear Regression Model is 86%"
   ]
  },
  {
   "cell_type": "markdown",
   "id": "c8fb91cc",
   "metadata": {},
   "source": [
    "# Pycaret"
   ]
  },
  {
   "cell_type": "code",
   "execution_count": 17,
   "id": "e593a410",
   "metadata": {},
   "outputs": [
    {
     "data": {
      "text/html": [
       "<style type=\"text/css\">\n",
       "#T_951f6_row8_col1 {\n",
       "  background-color: lightgreen;\n",
       "}\n",
       "</style>\n",
       "<table id=\"T_951f6\">\n",
       "  <thead>\n",
       "    <tr>\n",
       "      <th class=\"blank level0\" >&nbsp;</th>\n",
       "      <th id=\"T_951f6_level0_col0\" class=\"col_heading level0 col0\" >Description</th>\n",
       "      <th id=\"T_951f6_level0_col1\" class=\"col_heading level0 col1\" >Value</th>\n",
       "    </tr>\n",
       "  </thead>\n",
       "  <tbody>\n",
       "    <tr>\n",
       "      <th id=\"T_951f6_level0_row0\" class=\"row_heading level0 row0\" >0</th>\n",
       "      <td id=\"T_951f6_row0_col0\" class=\"data row0 col0\" >Session id</td>\n",
       "      <td id=\"T_951f6_row0_col1\" class=\"data row0 col1\" >123</td>\n",
       "    </tr>\n",
       "    <tr>\n",
       "      <th id=\"T_951f6_level0_row1\" class=\"row_heading level0 row1\" >1</th>\n",
       "      <td id=\"T_951f6_row1_col0\" class=\"data row1 col0\" >Target</td>\n",
       "      <td id=\"T_951f6_row1_col1\" class=\"data row1 col1\" >Sales</td>\n",
       "    </tr>\n",
       "    <tr>\n",
       "      <th id=\"T_951f6_level0_row2\" class=\"row_heading level0 row2\" >2</th>\n",
       "      <td id=\"T_951f6_row2_col0\" class=\"data row2 col0\" >Target type</td>\n",
       "      <td id=\"T_951f6_row2_col1\" class=\"data row2 col1\" >Regression</td>\n",
       "    </tr>\n",
       "    <tr>\n",
       "      <th id=\"T_951f6_level0_row3\" class=\"row_heading level0 row3\" >3</th>\n",
       "      <td id=\"T_951f6_row3_col0\" class=\"data row3 col0\" >Original data shape</td>\n",
       "      <td id=\"T_951f6_row3_col1\" class=\"data row3 col1\" >(200, 5)</td>\n",
       "    </tr>\n",
       "    <tr>\n",
       "      <th id=\"T_951f6_level0_row4\" class=\"row_heading level0 row4\" >4</th>\n",
       "      <td id=\"T_951f6_row4_col0\" class=\"data row4 col0\" >Transformed data shape</td>\n",
       "      <td id=\"T_951f6_row4_col1\" class=\"data row4 col1\" >(200, 5)</td>\n",
       "    </tr>\n",
       "    <tr>\n",
       "      <th id=\"T_951f6_level0_row5\" class=\"row_heading level0 row5\" >5</th>\n",
       "      <td id=\"T_951f6_row5_col0\" class=\"data row5 col0\" >Transformed train set shape</td>\n",
       "      <td id=\"T_951f6_row5_col1\" class=\"data row5 col1\" >(140, 5)</td>\n",
       "    </tr>\n",
       "    <tr>\n",
       "      <th id=\"T_951f6_level0_row6\" class=\"row_heading level0 row6\" >6</th>\n",
       "      <td id=\"T_951f6_row6_col0\" class=\"data row6 col0\" >Transformed test set shape</td>\n",
       "      <td id=\"T_951f6_row6_col1\" class=\"data row6 col1\" >(60, 5)</td>\n",
       "    </tr>\n",
       "    <tr>\n",
       "      <th id=\"T_951f6_level0_row7\" class=\"row_heading level0 row7\" >7</th>\n",
       "      <td id=\"T_951f6_row7_col0\" class=\"data row7 col0\" >Numeric features</td>\n",
       "      <td id=\"T_951f6_row7_col1\" class=\"data row7 col1\" >4</td>\n",
       "    </tr>\n",
       "    <tr>\n",
       "      <th id=\"T_951f6_level0_row8\" class=\"row_heading level0 row8\" >8</th>\n",
       "      <td id=\"T_951f6_row8_col0\" class=\"data row8 col0\" >Preprocess</td>\n",
       "      <td id=\"T_951f6_row8_col1\" class=\"data row8 col1\" >True</td>\n",
       "    </tr>\n",
       "    <tr>\n",
       "      <th id=\"T_951f6_level0_row9\" class=\"row_heading level0 row9\" >9</th>\n",
       "      <td id=\"T_951f6_row9_col0\" class=\"data row9 col0\" >Imputation type</td>\n",
       "      <td id=\"T_951f6_row9_col1\" class=\"data row9 col1\" >simple</td>\n",
       "    </tr>\n",
       "    <tr>\n",
       "      <th id=\"T_951f6_level0_row10\" class=\"row_heading level0 row10\" >10</th>\n",
       "      <td id=\"T_951f6_row10_col0\" class=\"data row10 col0\" >Numeric imputation</td>\n",
       "      <td id=\"T_951f6_row10_col1\" class=\"data row10 col1\" >mean</td>\n",
       "    </tr>\n",
       "    <tr>\n",
       "      <th id=\"T_951f6_level0_row11\" class=\"row_heading level0 row11\" >11</th>\n",
       "      <td id=\"T_951f6_row11_col0\" class=\"data row11 col0\" >Categorical imputation</td>\n",
       "      <td id=\"T_951f6_row11_col1\" class=\"data row11 col1\" >mode</td>\n",
       "    </tr>\n",
       "    <tr>\n",
       "      <th id=\"T_951f6_level0_row12\" class=\"row_heading level0 row12\" >12</th>\n",
       "      <td id=\"T_951f6_row12_col0\" class=\"data row12 col0\" >Fold Generator</td>\n",
       "      <td id=\"T_951f6_row12_col1\" class=\"data row12 col1\" >KFold</td>\n",
       "    </tr>\n",
       "    <tr>\n",
       "      <th id=\"T_951f6_level0_row13\" class=\"row_heading level0 row13\" >13</th>\n",
       "      <td id=\"T_951f6_row13_col0\" class=\"data row13 col0\" >Fold Number</td>\n",
       "      <td id=\"T_951f6_row13_col1\" class=\"data row13 col1\" >10</td>\n",
       "    </tr>\n",
       "    <tr>\n",
       "      <th id=\"T_951f6_level0_row14\" class=\"row_heading level0 row14\" >14</th>\n",
       "      <td id=\"T_951f6_row14_col0\" class=\"data row14 col0\" >CPU Jobs</td>\n",
       "      <td id=\"T_951f6_row14_col1\" class=\"data row14 col1\" >-1</td>\n",
       "    </tr>\n",
       "    <tr>\n",
       "      <th id=\"T_951f6_level0_row15\" class=\"row_heading level0 row15\" >15</th>\n",
       "      <td id=\"T_951f6_row15_col0\" class=\"data row15 col0\" >Use GPU</td>\n",
       "      <td id=\"T_951f6_row15_col1\" class=\"data row15 col1\" >False</td>\n",
       "    </tr>\n",
       "    <tr>\n",
       "      <th id=\"T_951f6_level0_row16\" class=\"row_heading level0 row16\" >16</th>\n",
       "      <td id=\"T_951f6_row16_col0\" class=\"data row16 col0\" >Log Experiment</td>\n",
       "      <td id=\"T_951f6_row16_col1\" class=\"data row16 col1\" >False</td>\n",
       "    </tr>\n",
       "    <tr>\n",
       "      <th id=\"T_951f6_level0_row17\" class=\"row_heading level0 row17\" >17</th>\n",
       "      <td id=\"T_951f6_row17_col0\" class=\"data row17 col0\" >Experiment Name</td>\n",
       "      <td id=\"T_951f6_row17_col1\" class=\"data row17 col1\" >reg-default-name</td>\n",
       "    </tr>\n",
       "    <tr>\n",
       "      <th id=\"T_951f6_level0_row18\" class=\"row_heading level0 row18\" >18</th>\n",
       "      <td id=\"T_951f6_row18_col0\" class=\"data row18 col0\" >USI</td>\n",
       "      <td id=\"T_951f6_row18_col1\" class=\"data row18 col1\" >bf09</td>\n",
       "    </tr>\n",
       "  </tbody>\n",
       "</table>\n"
      ],
      "text/plain": [
       "<pandas.io.formats.style.Styler at 0x25e5df9d540>"
      ]
     },
     "metadata": {},
     "output_type": "display_data"
    },
    {
     "data": {
      "text/html": [],
      "text/plain": [
       "<IPython.core.display.HTML object>"
      ]
     },
     "metadata": {},
     "output_type": "display_data"
    },
    {
     "data": {
      "text/html": [
       "<style type=\"text/css\">\n",
       "#T_4f74f th {\n",
       "  text-align: left;\n",
       "}\n",
       "#T_4f74f_row0_col0, #T_4f74f_row1_col0, #T_4f74f_row1_col1, #T_4f74f_row1_col2, #T_4f74f_row1_col3, #T_4f74f_row1_col4, #T_4f74f_row1_col5, #T_4f74f_row1_col6, #T_4f74f_row2_col0, #T_4f74f_row2_col1, #T_4f74f_row2_col2, #T_4f74f_row2_col3, #T_4f74f_row2_col4, #T_4f74f_row2_col5, #T_4f74f_row2_col6, #T_4f74f_row3_col0, #T_4f74f_row3_col1, #T_4f74f_row3_col2, #T_4f74f_row3_col3, #T_4f74f_row3_col4, #T_4f74f_row3_col5, #T_4f74f_row3_col6, #T_4f74f_row4_col0, #T_4f74f_row4_col1, #T_4f74f_row4_col2, #T_4f74f_row4_col3, #T_4f74f_row4_col4, #T_4f74f_row4_col5, #T_4f74f_row4_col6, #T_4f74f_row5_col0, #T_4f74f_row5_col1, #T_4f74f_row5_col2, #T_4f74f_row5_col3, #T_4f74f_row5_col4, #T_4f74f_row5_col5, #T_4f74f_row5_col6, #T_4f74f_row6_col0, #T_4f74f_row6_col1, #T_4f74f_row6_col2, #T_4f74f_row6_col3, #T_4f74f_row6_col4, #T_4f74f_row6_col5, #T_4f74f_row6_col6, #T_4f74f_row7_col0, #T_4f74f_row7_col1, #T_4f74f_row7_col2, #T_4f74f_row7_col3, #T_4f74f_row7_col4, #T_4f74f_row7_col5, #T_4f74f_row7_col6, #T_4f74f_row8_col0, #T_4f74f_row8_col1, #T_4f74f_row8_col2, #T_4f74f_row8_col3, #T_4f74f_row8_col4, #T_4f74f_row8_col5, #T_4f74f_row8_col6, #T_4f74f_row9_col0, #T_4f74f_row9_col1, #T_4f74f_row9_col2, #T_4f74f_row9_col3, #T_4f74f_row9_col4, #T_4f74f_row9_col5, #T_4f74f_row9_col6, #T_4f74f_row10_col0, #T_4f74f_row10_col1, #T_4f74f_row10_col2, #T_4f74f_row10_col3, #T_4f74f_row10_col4, #T_4f74f_row10_col5, #T_4f74f_row10_col6, #T_4f74f_row11_col0, #T_4f74f_row11_col1, #T_4f74f_row11_col2, #T_4f74f_row11_col3, #T_4f74f_row11_col4, #T_4f74f_row11_col5, #T_4f74f_row11_col6, #T_4f74f_row12_col0, #T_4f74f_row12_col1, #T_4f74f_row12_col2, #T_4f74f_row12_col3, #T_4f74f_row12_col4, #T_4f74f_row12_col5, #T_4f74f_row12_col6, #T_4f74f_row13_col0, #T_4f74f_row13_col1, #T_4f74f_row13_col2, #T_4f74f_row13_col3, #T_4f74f_row13_col4, #T_4f74f_row13_col5, #T_4f74f_row13_col6, #T_4f74f_row14_col0, #T_4f74f_row14_col1, #T_4f74f_row14_col2, #T_4f74f_row14_col3, #T_4f74f_row14_col4, #T_4f74f_row14_col5, #T_4f74f_row14_col6, #T_4f74f_row15_col0, #T_4f74f_row15_col1, #T_4f74f_row15_col2, #T_4f74f_row15_col3, #T_4f74f_row15_col4, #T_4f74f_row15_col5, #T_4f74f_row15_col6, #T_4f74f_row16_col0, #T_4f74f_row16_col1, #T_4f74f_row16_col2, #T_4f74f_row16_col3, #T_4f74f_row16_col4, #T_4f74f_row16_col5, #T_4f74f_row16_col6, #T_4f74f_row17_col0, #T_4f74f_row17_col1, #T_4f74f_row17_col2, #T_4f74f_row17_col3, #T_4f74f_row17_col4, #T_4f74f_row17_col5, #T_4f74f_row17_col6, #T_4f74f_row18_col0, #T_4f74f_row18_col1, #T_4f74f_row18_col2, #T_4f74f_row18_col3, #T_4f74f_row18_col4, #T_4f74f_row18_col5, #T_4f74f_row18_col6 {\n",
       "  text-align: left;\n",
       "}\n",
       "#T_4f74f_row0_col1, #T_4f74f_row0_col2, #T_4f74f_row0_col3, #T_4f74f_row0_col4, #T_4f74f_row0_col5, #T_4f74f_row0_col6 {\n",
       "  text-align: left;\n",
       "  background-color: yellow;\n",
       "}\n",
       "#T_4f74f_row0_col7, #T_4f74f_row1_col7, #T_4f74f_row2_col7, #T_4f74f_row3_col7, #T_4f74f_row4_col7, #T_4f74f_row5_col7, #T_4f74f_row6_col7, #T_4f74f_row8_col7, #T_4f74f_row9_col7, #T_4f74f_row10_col7, #T_4f74f_row11_col7, #T_4f74f_row12_col7, #T_4f74f_row13_col7, #T_4f74f_row14_col7, #T_4f74f_row15_col7, #T_4f74f_row16_col7, #T_4f74f_row17_col7, #T_4f74f_row18_col7 {\n",
       "  text-align: left;\n",
       "  background-color: lightgrey;\n",
       "}\n",
       "#T_4f74f_row7_col7 {\n",
       "  text-align: left;\n",
       "  background-color: yellow;\n",
       "  background-color: lightgrey;\n",
       "}\n",
       "</style>\n",
       "<table id=\"T_4f74f\">\n",
       "  <thead>\n",
       "    <tr>\n",
       "      <th class=\"blank level0\" >&nbsp;</th>\n",
       "      <th id=\"T_4f74f_level0_col0\" class=\"col_heading level0 col0\" >Model</th>\n",
       "      <th id=\"T_4f74f_level0_col1\" class=\"col_heading level0 col1\" >MAE</th>\n",
       "      <th id=\"T_4f74f_level0_col2\" class=\"col_heading level0 col2\" >MSE</th>\n",
       "      <th id=\"T_4f74f_level0_col3\" class=\"col_heading level0 col3\" >RMSE</th>\n",
       "      <th id=\"T_4f74f_level0_col4\" class=\"col_heading level0 col4\" >R2</th>\n",
       "      <th id=\"T_4f74f_level0_col5\" class=\"col_heading level0 col5\" >RMSLE</th>\n",
       "      <th id=\"T_4f74f_level0_col6\" class=\"col_heading level0 col6\" >MAPE</th>\n",
       "      <th id=\"T_4f74f_level0_col7\" class=\"col_heading level0 col7\" >TT (Sec)</th>\n",
       "    </tr>\n",
       "  </thead>\n",
       "  <tbody>\n",
       "    <tr>\n",
       "      <th id=\"T_4f74f_level0_row0\" class=\"row_heading level0 row0\" >et</th>\n",
       "      <td id=\"T_4f74f_row0_col0\" class=\"data row0 col0\" >Extra Trees Regressor</td>\n",
       "      <td id=\"T_4f74f_row0_col1\" class=\"data row0 col1\" >0.4870</td>\n",
       "      <td id=\"T_4f74f_row0_col2\" class=\"data row0 col2\" >0.4736</td>\n",
       "      <td id=\"T_4f74f_row0_col3\" class=\"data row0 col3\" >0.6572</td>\n",
       "      <td id=\"T_4f74f_row0_col4\" class=\"data row0 col4\" >0.9818</td>\n",
       "      <td id=\"T_4f74f_row0_col5\" class=\"data row0 col5\" >0.0699</td>\n",
       "      <td id=\"T_4f74f_row0_col6\" class=\"data row0 col6\" >0.0568</td>\n",
       "      <td id=\"T_4f74f_row0_col7\" class=\"data row0 col7\" >0.0680</td>\n",
       "    </tr>\n",
       "    <tr>\n",
       "      <th id=\"T_4f74f_level0_row1\" class=\"row_heading level0 row1\" >gbr</th>\n",
       "      <td id=\"T_4f74f_row1_col0\" class=\"data row1 col0\" >Gradient Boosting Regressor</td>\n",
       "      <td id=\"T_4f74f_row1_col1\" class=\"data row1 col1\" >0.6630</td>\n",
       "      <td id=\"T_4f74f_row1_col2\" class=\"data row1 col2\" >0.7866</td>\n",
       "      <td id=\"T_4f74f_row1_col3\" class=\"data row1 col3\" >0.8574</td>\n",
       "      <td id=\"T_4f74f_row1_col4\" class=\"data row1 col4\" >0.9682</td>\n",
       "      <td id=\"T_4f74f_row1_col5\" class=\"data row1 col5\" >0.0850</td>\n",
       "      <td id=\"T_4f74f_row1_col6\" class=\"data row1 col6\" >0.0716</td>\n",
       "      <td id=\"T_4f74f_row1_col7\" class=\"data row1 col7\" >0.0570</td>\n",
       "    </tr>\n",
       "    <tr>\n",
       "      <th id=\"T_4f74f_level0_row2\" class=\"row_heading level0 row2\" >rf</th>\n",
       "      <td id=\"T_4f74f_row2_col0\" class=\"data row2 col0\" >Random Forest Regressor</td>\n",
       "      <td id=\"T_4f74f_row2_col1\" class=\"data row2 col1\" >0.7133</td>\n",
       "      <td id=\"T_4f74f_row2_col2\" class=\"data row2 col2\" >0.8401</td>\n",
       "      <td id=\"T_4f74f_row2_col3\" class=\"data row2 col3\" >0.8900</td>\n",
       "      <td id=\"T_4f74f_row2_col4\" class=\"data row2 col4\" >0.9677</td>\n",
       "      <td id=\"T_4f74f_row2_col5\" class=\"data row2 col5\" >0.0848</td>\n",
       "      <td id=\"T_4f74f_row2_col6\" class=\"data row2 col6\" >0.0737</td>\n",
       "      <td id=\"T_4f74f_row2_col7\" class=\"data row2 col7\" >0.0690</td>\n",
       "    </tr>\n",
       "    <tr>\n",
       "      <th id=\"T_4f74f_level0_row3\" class=\"row_heading level0 row3\" >xgboost</th>\n",
       "      <td id=\"T_4f74f_row3_col0\" class=\"data row3 col0\" >Extreme Gradient Boosting</td>\n",
       "      <td id=\"T_4f74f_row3_col1\" class=\"data row3 col1\" >0.7371</td>\n",
       "      <td id=\"T_4f74f_row3_col2\" class=\"data row3 col2\" >1.0121</td>\n",
       "      <td id=\"T_4f74f_row3_col3\" class=\"data row3 col3\" >0.9810</td>\n",
       "      <td id=\"T_4f74f_row3_col4\" class=\"data row3 col4\" >0.9574</td>\n",
       "      <td id=\"T_4f74f_row3_col5\" class=\"data row3 col5\" >0.0935</td>\n",
       "      <td id=\"T_4f74f_row3_col6\" class=\"data row3 col6\" >0.0777</td>\n",
       "      <td id=\"T_4f74f_row3_col7\" class=\"data row3 col7\" >0.0580</td>\n",
       "    </tr>\n",
       "    <tr>\n",
       "      <th id=\"T_4f74f_level0_row4\" class=\"row_heading level0 row4\" >ada</th>\n",
       "      <td id=\"T_4f74f_row4_col0\" class=\"data row4 col0\" >AdaBoost Regressor</td>\n",
       "      <td id=\"T_4f74f_row4_col1\" class=\"data row4 col1\" >0.8880</td>\n",
       "      <td id=\"T_4f74f_row4_col2\" class=\"data row4 col2\" >1.2378</td>\n",
       "      <td id=\"T_4f74f_row4_col3\" class=\"data row4 col3\" >1.0774</td>\n",
       "      <td id=\"T_4f74f_row4_col4\" class=\"data row4 col4\" >0.9505</td>\n",
       "      <td id=\"T_4f74f_row4_col5\" class=\"data row4 col5\" >0.0997</td>\n",
       "      <td id=\"T_4f74f_row4_col6\" class=\"data row4 col6\" >0.0914</td>\n",
       "      <td id=\"T_4f74f_row4_col7\" class=\"data row4 col7\" >0.0550</td>\n",
       "    </tr>\n",
       "    <tr>\n",
       "      <th id=\"T_4f74f_level0_row5\" class=\"row_heading level0 row5\" >dt</th>\n",
       "      <td id=\"T_4f74f_row5_col0\" class=\"data row5 col0\" >Decision Tree Regressor</td>\n",
       "      <td id=\"T_4f74f_row5_col1\" class=\"data row5 col1\" >0.9236</td>\n",
       "      <td id=\"T_4f74f_row5_col2\" class=\"data row5 col2\" >1.4702</td>\n",
       "      <td id=\"T_4f74f_row5_col3\" class=\"data row5 col3\" >1.1938</td>\n",
       "      <td id=\"T_4f74f_row5_col4\" class=\"data row5 col4\" >0.9339</td>\n",
       "      <td id=\"T_4f74f_row5_col5\" class=\"data row5 col5\" >0.1109</td>\n",
       "      <td id=\"T_4f74f_row5_col6\" class=\"data row5 col6\" >0.0898</td>\n",
       "      <td id=\"T_4f74f_row5_col7\" class=\"data row5 col7\" >0.0500</td>\n",
       "    </tr>\n",
       "    <tr>\n",
       "      <th id=\"T_4f74f_level0_row6\" class=\"row_heading level0 row6\" >lightgbm</th>\n",
       "      <td id=\"T_4f74f_row6_col0\" class=\"data row6 col0\" >Light Gradient Boosting Machine</td>\n",
       "      <td id=\"T_4f74f_row6_col1\" class=\"data row6 col1\" >1.0096</td>\n",
       "      <td id=\"T_4f74f_row6_col2\" class=\"data row6 col2\" >1.9894</td>\n",
       "      <td id=\"T_4f74f_row6_col3\" class=\"data row6 col3\" >1.3678</td>\n",
       "      <td id=\"T_4f74f_row6_col4\" class=\"data row6 col4\" >0.9170</td>\n",
       "      <td id=\"T_4f74f_row6_col5\" class=\"data row6 col5\" >0.1453</td>\n",
       "      <td id=\"T_4f74f_row6_col6\" class=\"data row6 col6\" >0.1206</td>\n",
       "      <td id=\"T_4f74f_row6_col7\" class=\"data row6 col7\" >0.2160</td>\n",
       "    </tr>\n",
       "    <tr>\n",
       "      <th id=\"T_4f74f_level0_row7\" class=\"row_heading level0 row7\" >llar</th>\n",
       "      <td id=\"T_4f74f_row7_col0\" class=\"data row7 col0\" >Lasso Least Angle Regression</td>\n",
       "      <td id=\"T_4f74f_row7_col1\" class=\"data row7 col1\" >1.3872</td>\n",
       "      <td id=\"T_4f74f_row7_col2\" class=\"data row7 col2\" >3.3382</td>\n",
       "      <td id=\"T_4f74f_row7_col3\" class=\"data row7 col3\" >1.7591</td>\n",
       "      <td id=\"T_4f74f_row7_col4\" class=\"data row7 col4\" >0.8656</td>\n",
       "      <td id=\"T_4f74f_row7_col5\" class=\"data row7 col5\" >0.1724</td>\n",
       "      <td id=\"T_4f74f_row7_col6\" class=\"data row7 col6\" >0.1614</td>\n",
       "      <td id=\"T_4f74f_row7_col7\" class=\"data row7 col7\" >0.0470</td>\n",
       "    </tr>\n",
       "    <tr>\n",
       "      <th id=\"T_4f74f_level0_row8\" class=\"row_heading level0 row8\" >lasso</th>\n",
       "      <td id=\"T_4f74f_row8_col0\" class=\"data row8 col0\" >Lasso Regression</td>\n",
       "      <td id=\"T_4f74f_row8_col1\" class=\"data row8 col1\" >1.3872</td>\n",
       "      <td id=\"T_4f74f_row8_col2\" class=\"data row8 col2\" >3.3382</td>\n",
       "      <td id=\"T_4f74f_row8_col3\" class=\"data row8 col3\" >1.7591</td>\n",
       "      <td id=\"T_4f74f_row8_col4\" class=\"data row8 col4\" >0.8656</td>\n",
       "      <td id=\"T_4f74f_row8_col5\" class=\"data row8 col5\" >0.1724</td>\n",
       "      <td id=\"T_4f74f_row8_col6\" class=\"data row8 col6\" >0.1614</td>\n",
       "      <td id=\"T_4f74f_row8_col7\" class=\"data row8 col7\" >0.3830</td>\n",
       "    </tr>\n",
       "    <tr>\n",
       "      <th id=\"T_4f74f_level0_row9\" class=\"row_heading level0 row9\" >en</th>\n",
       "      <td id=\"T_4f74f_row9_col0\" class=\"data row9 col0\" >Elastic Net</td>\n",
       "      <td id=\"T_4f74f_row9_col1\" class=\"data row9 col1\" >1.3877</td>\n",
       "      <td id=\"T_4f74f_row9_col2\" class=\"data row9 col2\" >3.3523</td>\n",
       "      <td id=\"T_4f74f_row9_col3\" class=\"data row9 col3\" >1.7612</td>\n",
       "      <td id=\"T_4f74f_row9_col4\" class=\"data row9 col4\" >0.8652</td>\n",
       "      <td id=\"T_4f74f_row9_col5\" class=\"data row9 col5\" >0.1736</td>\n",
       "      <td id=\"T_4f74f_row9_col6\" class=\"data row9 col6\" >0.1622</td>\n",
       "      <td id=\"T_4f74f_row9_col7\" class=\"data row9 col7\" >0.0480</td>\n",
       "    </tr>\n",
       "    <tr>\n",
       "      <th id=\"T_4f74f_level0_row10\" class=\"row_heading level0 row10\" >lar</th>\n",
       "      <td id=\"T_4f74f_row10_col0\" class=\"data row10 col0\" >Least Angle Regression</td>\n",
       "      <td id=\"T_4f74f_row10_col1\" class=\"data row10 col1\" >1.3886</td>\n",
       "      <td id=\"T_4f74f_row10_col2\" class=\"data row10 col2\" >3.3712</td>\n",
       "      <td id=\"T_4f74f_row10_col3\" class=\"data row10 col3\" >1.7643</td>\n",
       "      <td id=\"T_4f74f_row10_col4\" class=\"data row10 col4\" >0.8646</td>\n",
       "      <td id=\"T_4f74f_row10_col5\" class=\"data row10 col5\" >0.1755</td>\n",
       "      <td id=\"T_4f74f_row10_col6\" class=\"data row10 col6\" >0.1634</td>\n",
       "      <td id=\"T_4f74f_row10_col7\" class=\"data row10 col7\" >0.0480</td>\n",
       "    </tr>\n",
       "    <tr>\n",
       "      <th id=\"T_4f74f_level0_row11\" class=\"row_heading level0 row11\" >lr</th>\n",
       "      <td id=\"T_4f74f_row11_col0\" class=\"data row11 col0\" >Linear Regression</td>\n",
       "      <td id=\"T_4f74f_row11_col1\" class=\"data row11 col1\" >1.3886</td>\n",
       "      <td id=\"T_4f74f_row11_col2\" class=\"data row11 col2\" >3.3712</td>\n",
       "      <td id=\"T_4f74f_row11_col3\" class=\"data row11 col3\" >1.7643</td>\n",
       "      <td id=\"T_4f74f_row11_col4\" class=\"data row11 col4\" >0.8646</td>\n",
       "      <td id=\"T_4f74f_row11_col5\" class=\"data row11 col5\" >0.1755</td>\n",
       "      <td id=\"T_4f74f_row11_col6\" class=\"data row11 col6\" >0.1634</td>\n",
       "      <td id=\"T_4f74f_row11_col7\" class=\"data row11 col7\" >0.8300</td>\n",
       "    </tr>\n",
       "    <tr>\n",
       "      <th id=\"T_4f74f_level0_row12\" class=\"row_heading level0 row12\" >ridge</th>\n",
       "      <td id=\"T_4f74f_row12_col0\" class=\"data row12 col0\" >Ridge Regression</td>\n",
       "      <td id=\"T_4f74f_row12_col1\" class=\"data row12 col1\" >1.3886</td>\n",
       "      <td id=\"T_4f74f_row12_col2\" class=\"data row12 col2\" >3.3712</td>\n",
       "      <td id=\"T_4f74f_row12_col3\" class=\"data row12 col3\" >1.7643</td>\n",
       "      <td id=\"T_4f74f_row12_col4\" class=\"data row12 col4\" >0.8646</td>\n",
       "      <td id=\"T_4f74f_row12_col5\" class=\"data row12 col5\" >0.1755</td>\n",
       "      <td id=\"T_4f74f_row12_col6\" class=\"data row12 col6\" >0.1634</td>\n",
       "      <td id=\"T_4f74f_row12_col7\" class=\"data row12 col7\" >0.0490</td>\n",
       "    </tr>\n",
       "    <tr>\n",
       "      <th id=\"T_4f74f_level0_row13\" class=\"row_heading level0 row13\" >br</th>\n",
       "      <td id=\"T_4f74f_row13_col0\" class=\"data row13 col0\" >Bayesian Ridge</td>\n",
       "      <td id=\"T_4f74f_row13_col1\" class=\"data row13 col1\" >1.3940</td>\n",
       "      <td id=\"T_4f74f_row13_col2\" class=\"data row13 col2\" >3.3789</td>\n",
       "      <td id=\"T_4f74f_row13_col3\" class=\"data row13 col3\" >1.7678</td>\n",
       "      <td id=\"T_4f74f_row13_col4\" class=\"data row13 col4\" >0.8640</td>\n",
       "      <td id=\"T_4f74f_row13_col5\" class=\"data row13 col5\" >0.1743</td>\n",
       "      <td id=\"T_4f74f_row13_col6\" class=\"data row13 col6\" >0.1631</td>\n",
       "      <td id=\"T_4f74f_row13_col7\" class=\"data row13 col7\" >0.0490</td>\n",
       "    </tr>\n",
       "    <tr>\n",
       "      <th id=\"T_4f74f_level0_row14\" class=\"row_heading level0 row14\" >huber</th>\n",
       "      <td id=\"T_4f74f_row14_col0\" class=\"data row14 col0\" >Huber Regressor</td>\n",
       "      <td id=\"T_4f74f_row14_col1\" class=\"data row14 col1\" >1.3491</td>\n",
       "      <td id=\"T_4f74f_row14_col2\" class=\"data row14 col2\" >3.5108</td>\n",
       "      <td id=\"T_4f74f_row14_col3\" class=\"data row14 col3\" >1.7959</td>\n",
       "      <td id=\"T_4f74f_row14_col4\" class=\"data row14 col4\" >0.8599</td>\n",
       "      <td id=\"T_4f74f_row14_col5\" class=\"data row14 col5\" >0.1783</td>\n",
       "      <td id=\"T_4f74f_row14_col6\" class=\"data row14 col6\" >0.1662</td>\n",
       "      <td id=\"T_4f74f_row14_col7\" class=\"data row14 col7\" >0.0500</td>\n",
       "    </tr>\n",
       "    <tr>\n",
       "      <th id=\"T_4f74f_level0_row15\" class=\"row_heading level0 row15\" >knn</th>\n",
       "      <td id=\"T_4f74f_row15_col0\" class=\"data row15 col0\" >K Neighbors Regressor</td>\n",
       "      <td id=\"T_4f74f_row15_col1\" class=\"data row15 col1\" >2.0039</td>\n",
       "      <td id=\"T_4f74f_row15_col2\" class=\"data row15 col2\" >6.7314</td>\n",
       "      <td id=\"T_4f74f_row15_col3\" class=\"data row15 col3\" >2.5577</td>\n",
       "      <td id=\"T_4f74f_row15_col4\" class=\"data row15 col4\" >0.7133</td>\n",
       "      <td id=\"T_4f74f_row15_col5\" class=\"data row15 col5\" >0.1926</td>\n",
       "      <td id=\"T_4f74f_row15_col6\" class=\"data row15 col6\" >0.1842</td>\n",
       "      <td id=\"T_4f74f_row15_col7\" class=\"data row15 col7\" >0.0540</td>\n",
       "    </tr>\n",
       "    <tr>\n",
       "      <th id=\"T_4f74f_level0_row16\" class=\"row_heading level0 row16\" >omp</th>\n",
       "      <td id=\"T_4f74f_row16_col0\" class=\"data row16 col0\" >Orthogonal Matching Pursuit</td>\n",
       "      <td id=\"T_4f74f_row16_col1\" class=\"data row16 col1\" >2.6871</td>\n",
       "      <td id=\"T_4f74f_row16_col2\" class=\"data row16 col2\" >11.2996</td>\n",
       "      <td id=\"T_4f74f_row16_col3\" class=\"data row16 col3\" >3.3293</td>\n",
       "      <td id=\"T_4f74f_row16_col4\" class=\"data row16 col4\" >0.4990</td>\n",
       "      <td id=\"T_4f74f_row16_col5\" class=\"data row16 col5\" >0.2264</td>\n",
       "      <td id=\"T_4f74f_row16_col6\" class=\"data row16 col6\" >0.2269</td>\n",
       "      <td id=\"T_4f74f_row16_col7\" class=\"data row16 col7\" >0.0490</td>\n",
       "    </tr>\n",
       "    <tr>\n",
       "      <th id=\"T_4f74f_level0_row17\" class=\"row_heading level0 row17\" >par</th>\n",
       "      <td id=\"T_4f74f_row17_col0\" class=\"data row17 col0\" >Passive Aggressive Regressor</td>\n",
       "      <td id=\"T_4f74f_row17_col1\" class=\"data row17 col1\" >3.2456</td>\n",
       "      <td id=\"T_4f74f_row17_col2\" class=\"data row17 col2\" >16.1895</td>\n",
       "      <td id=\"T_4f74f_row17_col3\" class=\"data row17 col3\" >3.8526</td>\n",
       "      <td id=\"T_4f74f_row17_col4\" class=\"data row17 col4\" >0.3089</td>\n",
       "      <td id=\"T_4f74f_row17_col5\" class=\"data row17 col5\" >0.2808</td>\n",
       "      <td id=\"T_4f74f_row17_col6\" class=\"data row17 col6\" >0.3004</td>\n",
       "      <td id=\"T_4f74f_row17_col7\" class=\"data row17 col7\" >0.0480</td>\n",
       "    </tr>\n",
       "    <tr>\n",
       "      <th id=\"T_4f74f_level0_row18\" class=\"row_heading level0 row18\" >dummy</th>\n",
       "      <td id=\"T_4f74f_row18_col0\" class=\"data row18 col0\" >Dummy Regressor</td>\n",
       "      <td id=\"T_4f74f_row18_col1\" class=\"data row18 col1\" >4.3561</td>\n",
       "      <td id=\"T_4f74f_row18_col2\" class=\"data row18 col2\" >27.7343</td>\n",
       "      <td id=\"T_4f74f_row18_col3\" class=\"data row18 col3\" >5.1586</td>\n",
       "      <td id=\"T_4f74f_row18_col4\" class=\"data row18 col4\" >-0.0588</td>\n",
       "      <td id=\"T_4f74f_row18_col5\" class=\"data row18 col5\" >0.3803</td>\n",
       "      <td id=\"T_4f74f_row18_col6\" class=\"data row18 col6\" >0.4259</td>\n",
       "      <td id=\"T_4f74f_row18_col7\" class=\"data row18 col7\" >0.0710</td>\n",
       "    </tr>\n",
       "  </tbody>\n",
       "</table>\n"
      ],
      "text/plain": [
       "<pandas.io.formats.style.Styler at 0x25e548752d0>"
      ]
     },
     "metadata": {},
     "output_type": "display_data"
    },
    {
     "data": {
      "application/vnd.jupyter.widget-view+json": {
       "model_id": "",
       "version_major": 2,
       "version_minor": 0
      },
      "text/plain": [
       "Processing:   0%|          | 0/81 [00:00<?, ?it/s]"
      ]
     },
     "metadata": {},
     "output_type": "display_data"
    },
    {
     "data": {
      "text/html": [
       "<style>#sk-container-id-1 {color: black;background-color: white;}#sk-container-id-1 pre{padding: 0;}#sk-container-id-1 div.sk-toggleable {background-color: white;}#sk-container-id-1 label.sk-toggleable__label {cursor: pointer;display: block;width: 100%;margin-bottom: 0;padding: 0.3em;box-sizing: border-box;text-align: center;}#sk-container-id-1 label.sk-toggleable__label-arrow:before {content: \"▸\";float: left;margin-right: 0.25em;color: #696969;}#sk-container-id-1 label.sk-toggleable__label-arrow:hover:before {color: black;}#sk-container-id-1 div.sk-estimator:hover label.sk-toggleable__label-arrow:before {color: black;}#sk-container-id-1 div.sk-toggleable__content {max-height: 0;max-width: 0;overflow: hidden;text-align: left;background-color: #f0f8ff;}#sk-container-id-1 div.sk-toggleable__content pre {margin: 0.2em;color: black;border-radius: 0.25em;background-color: #f0f8ff;}#sk-container-id-1 input.sk-toggleable__control:checked~div.sk-toggleable__content {max-height: 200px;max-width: 100%;overflow: auto;}#sk-container-id-1 input.sk-toggleable__control:checked~label.sk-toggleable__label-arrow:before {content: \"▾\";}#sk-container-id-1 div.sk-estimator input.sk-toggleable__control:checked~label.sk-toggleable__label {background-color: #d4ebff;}#sk-container-id-1 div.sk-label input.sk-toggleable__control:checked~label.sk-toggleable__label {background-color: #d4ebff;}#sk-container-id-1 input.sk-hidden--visually {border: 0;clip: rect(1px 1px 1px 1px);clip: rect(1px, 1px, 1px, 1px);height: 1px;margin: -1px;overflow: hidden;padding: 0;position: absolute;width: 1px;}#sk-container-id-1 div.sk-estimator {font-family: monospace;background-color: #f0f8ff;border: 1px dotted black;border-radius: 0.25em;box-sizing: border-box;margin-bottom: 0.5em;}#sk-container-id-1 div.sk-estimator:hover {background-color: #d4ebff;}#sk-container-id-1 div.sk-parallel-item::after {content: \"\";width: 100%;border-bottom: 1px solid gray;flex-grow: 1;}#sk-container-id-1 div.sk-label:hover label.sk-toggleable__label {background-color: #d4ebff;}#sk-container-id-1 div.sk-serial::before {content: \"\";position: absolute;border-left: 1px solid gray;box-sizing: border-box;top: 0;bottom: 0;left: 50%;z-index: 0;}#sk-container-id-1 div.sk-serial {display: flex;flex-direction: column;align-items: center;background-color: white;padding-right: 0.2em;padding-left: 0.2em;position: relative;}#sk-container-id-1 div.sk-item {position: relative;z-index: 1;}#sk-container-id-1 div.sk-parallel {display: flex;align-items: stretch;justify-content: center;background-color: white;position: relative;}#sk-container-id-1 div.sk-item::before, #sk-container-id-1 div.sk-parallel-item::before {content: \"\";position: absolute;border-left: 1px solid gray;box-sizing: border-box;top: 0;bottom: 0;left: 50%;z-index: -1;}#sk-container-id-1 div.sk-parallel-item {display: flex;flex-direction: column;z-index: 1;position: relative;background-color: white;}#sk-container-id-1 div.sk-parallel-item:first-child::after {align-self: flex-end;width: 50%;}#sk-container-id-1 div.sk-parallel-item:last-child::after {align-self: flex-start;width: 50%;}#sk-container-id-1 div.sk-parallel-item:only-child::after {width: 0;}#sk-container-id-1 div.sk-dashed-wrapped {border: 1px dashed gray;margin: 0 0.4em 0.5em 0.4em;box-sizing: border-box;padding-bottom: 0.4em;background-color: white;}#sk-container-id-1 div.sk-label label {font-family: monospace;font-weight: bold;display: inline-block;line-height: 1.2em;}#sk-container-id-1 div.sk-label-container {text-align: center;}#sk-container-id-1 div.sk-container {/* jupyter's `normalize.less` sets `[hidden] { display: none; }` but bootstrap.min.css set `[hidden] { display: none !important; }` so we also need the `!important` here to be able to override the default hidden behavior on the sphinx rendered scikit-learn.org. See: https://github.com/scikit-learn/scikit-learn/issues/21755 */display: inline-block !important;position: relative;}#sk-container-id-1 div.sk-text-repr-fallback {display: none;}</style><div id=\"sk-container-id-1\" class=\"sk-top-container\"><div class=\"sk-text-repr-fallback\"><pre>ExtraTreesRegressor(n_jobs=-1, random_state=123)</pre><b>In a Jupyter environment, please rerun this cell to show the HTML representation or trust the notebook. <br />On GitHub, the HTML representation is unable to render, please try loading this page with nbviewer.org.</b></div><div class=\"sk-container\" hidden><div class=\"sk-item\"><div class=\"sk-estimator sk-toggleable\"><input class=\"sk-toggleable__control sk-hidden--visually\" id=\"sk-estimator-id-1\" type=\"checkbox\" checked><label for=\"sk-estimator-id-1\" class=\"sk-toggleable__label sk-toggleable__label-arrow\">ExtraTreesRegressor</label><div class=\"sk-toggleable__content\"><pre>ExtraTreesRegressor(n_jobs=-1, random_state=123)</pre></div></div></div></div></div>"
      ],
      "text/plain": [
       "ExtraTreesRegressor(n_jobs=-1, random_state=123)"
      ]
     },
     "execution_count": 17,
     "metadata": {},
     "output_type": "execute_result"
    }
   ],
   "source": [
    "#Comparing Regression Models\n",
    "\n",
    "s = setup(data = sales, target = 'Sales', session_id=123)\n",
    "\n",
    "compare_models()"
   ]
  },
  {
   "cell_type": "markdown",
   "id": "282570b0",
   "metadata": {},
   "source": [
    "# Finalizing the Best Model"
   ]
  },
  {
   "cell_type": "code",
   "execution_count": 18,
   "id": "c28bf866",
   "metadata": {},
   "outputs": [
    {
     "data": {
      "text/html": [],
      "text/plain": [
       "<IPython.core.display.HTML object>"
      ]
     },
     "metadata": {},
     "output_type": "display_data"
    },
    {
     "data": {
      "text/html": [
       "<style type=\"text/css\">\n",
       "#T_09c6e_row10_col0, #T_09c6e_row10_col1, #T_09c6e_row10_col2, #T_09c6e_row10_col3, #T_09c6e_row10_col4, #T_09c6e_row10_col5 {\n",
       "  background: yellow;\n",
       "}\n",
       "</style>\n",
       "<table id=\"T_09c6e\">\n",
       "  <thead>\n",
       "    <tr>\n",
       "      <th class=\"blank level0\" >&nbsp;</th>\n",
       "      <th id=\"T_09c6e_level0_col0\" class=\"col_heading level0 col0\" >MAE</th>\n",
       "      <th id=\"T_09c6e_level0_col1\" class=\"col_heading level0 col1\" >MSE</th>\n",
       "      <th id=\"T_09c6e_level0_col2\" class=\"col_heading level0 col2\" >RMSE</th>\n",
       "      <th id=\"T_09c6e_level0_col3\" class=\"col_heading level0 col3\" >R2</th>\n",
       "      <th id=\"T_09c6e_level0_col4\" class=\"col_heading level0 col4\" >RMSLE</th>\n",
       "      <th id=\"T_09c6e_level0_col5\" class=\"col_heading level0 col5\" >MAPE</th>\n",
       "    </tr>\n",
       "    <tr>\n",
       "      <th class=\"index_name level0\" >Fold</th>\n",
       "      <th class=\"blank col0\" >&nbsp;</th>\n",
       "      <th class=\"blank col1\" >&nbsp;</th>\n",
       "      <th class=\"blank col2\" >&nbsp;</th>\n",
       "      <th class=\"blank col3\" >&nbsp;</th>\n",
       "      <th class=\"blank col4\" >&nbsp;</th>\n",
       "      <th class=\"blank col5\" >&nbsp;</th>\n",
       "    </tr>\n",
       "  </thead>\n",
       "  <tbody>\n",
       "    <tr>\n",
       "      <th id=\"T_09c6e_level0_row0\" class=\"row_heading level0 row0\" >0</th>\n",
       "      <td id=\"T_09c6e_row0_col0\" class=\"data row0 col0\" >0.4179</td>\n",
       "      <td id=\"T_09c6e_row0_col1\" class=\"data row0 col1\" >0.3977</td>\n",
       "      <td id=\"T_09c6e_row0_col2\" class=\"data row0 col2\" >0.6307</td>\n",
       "      <td id=\"T_09c6e_row0_col3\" class=\"data row0 col3\" >0.9820</td>\n",
       "      <td id=\"T_09c6e_row0_col4\" class=\"data row0 col4\" >0.0424</td>\n",
       "      <td id=\"T_09c6e_row0_col5\" class=\"data row0 col5\" >0.0347</td>\n",
       "    </tr>\n",
       "    <tr>\n",
       "      <th id=\"T_09c6e_level0_row1\" class=\"row_heading level0 row1\" >1</th>\n",
       "      <td id=\"T_09c6e_row1_col0\" class=\"data row1 col0\" >0.7176</td>\n",
       "      <td id=\"T_09c6e_row1_col1\" class=\"data row1 col1\" >1.4009</td>\n",
       "      <td id=\"T_09c6e_row1_col2\" class=\"data row1 col2\" >1.1836</td>\n",
       "      <td id=\"T_09c6e_row1_col3\" class=\"data row1 col3\" >0.9549</td>\n",
       "      <td id=\"T_09c6e_row1_col4\" class=\"data row1 col4\" >0.2556</td>\n",
       "      <td id=\"T_09c6e_row1_col5\" class=\"data row1 col5\" >0.2236</td>\n",
       "    </tr>\n",
       "    <tr>\n",
       "      <th id=\"T_09c6e_level0_row2\" class=\"row_heading level0 row2\" >2</th>\n",
       "      <td id=\"T_09c6e_row2_col0\" class=\"data row2 col0\" >0.5294</td>\n",
       "      <td id=\"T_09c6e_row2_col1\" class=\"data row2 col1\" >0.5571</td>\n",
       "      <td id=\"T_09c6e_row2_col2\" class=\"data row2 col2\" >0.7464</td>\n",
       "      <td id=\"T_09c6e_row2_col3\" class=\"data row2 col3\" >0.9822</td>\n",
       "      <td id=\"T_09c6e_row2_col4\" class=\"data row2 col4\" >0.0436</td>\n",
       "      <td id=\"T_09c6e_row2_col5\" class=\"data row2 col5\" >0.0384</td>\n",
       "    </tr>\n",
       "    <tr>\n",
       "      <th id=\"T_09c6e_level0_row3\" class=\"row_heading level0 row3\" >3</th>\n",
       "      <td id=\"T_09c6e_row3_col0\" class=\"data row3 col0\" >0.3916</td>\n",
       "      <td id=\"T_09c6e_row3_col1\" class=\"data row3 col1\" >0.2425</td>\n",
       "      <td id=\"T_09c6e_row3_col2\" class=\"data row3 col2\" >0.4925</td>\n",
       "      <td id=\"T_09c6e_row3_col3\" class=\"data row3 col3\" >0.9795</td>\n",
       "      <td id=\"T_09c6e_row3_col4\" class=\"data row3 col4\" >0.0365</td>\n",
       "      <td id=\"T_09c6e_row3_col5\" class=\"data row3 col5\" >0.0306</td>\n",
       "    </tr>\n",
       "    <tr>\n",
       "      <th id=\"T_09c6e_level0_row4\" class=\"row_heading level0 row4\" >4</th>\n",
       "      <td id=\"T_09c6e_row4_col0\" class=\"data row4 col0\" >0.3891</td>\n",
       "      <td id=\"T_09c6e_row4_col1\" class=\"data row4 col1\" >0.2269</td>\n",
       "      <td id=\"T_09c6e_row4_col2\" class=\"data row4 col2\" >0.4764</td>\n",
       "      <td id=\"T_09c6e_row4_col3\" class=\"data row4 col3\" >0.9817</td>\n",
       "      <td id=\"T_09c6e_row4_col4\" class=\"data row4 col4\" >0.0350</td>\n",
       "      <td id=\"T_09c6e_row4_col5\" class=\"data row4 col5\" >0.0297</td>\n",
       "    </tr>\n",
       "    <tr>\n",
       "      <th id=\"T_09c6e_level0_row5\" class=\"row_heading level0 row5\" >5</th>\n",
       "      <td id=\"T_09c6e_row5_col0\" class=\"data row5 col0\" >0.4183</td>\n",
       "      <td id=\"T_09c6e_row5_col1\" class=\"data row5 col1\" >0.2326</td>\n",
       "      <td id=\"T_09c6e_row5_col2\" class=\"data row5 col2\" >0.4823</td>\n",
       "      <td id=\"T_09c6e_row5_col3\" class=\"data row5 col3\" >0.9899</td>\n",
       "      <td id=\"T_09c6e_row5_col4\" class=\"data row5 col4\" >0.0384</td>\n",
       "      <td id=\"T_09c6e_row5_col5\" class=\"data row5 col5\" >0.0361</td>\n",
       "    </tr>\n",
       "    <tr>\n",
       "      <th id=\"T_09c6e_level0_row6\" class=\"row_heading level0 row6\" >6</th>\n",
       "      <td id=\"T_09c6e_row6_col0\" class=\"data row6 col0\" >0.5249</td>\n",
       "      <td id=\"T_09c6e_row6_col1\" class=\"data row6 col1\" >0.3842</td>\n",
       "      <td id=\"T_09c6e_row6_col2\" class=\"data row6 col2\" >0.6199</td>\n",
       "      <td id=\"T_09c6e_row6_col3\" class=\"data row6 col3\" >0.9884</td>\n",
       "      <td id=\"T_09c6e_row6_col4\" class=\"data row6 col4\" >0.0540</td>\n",
       "      <td id=\"T_09c6e_row6_col5\" class=\"data row6 col5\" >0.0458</td>\n",
       "    </tr>\n",
       "    <tr>\n",
       "      <th id=\"T_09c6e_level0_row7\" class=\"row_heading level0 row7\" >7</th>\n",
       "      <td id=\"T_09c6e_row7_col0\" class=\"data row7 col0\" >0.3770</td>\n",
       "      <td id=\"T_09c6e_row7_col1\" class=\"data row7 col1\" >0.2750</td>\n",
       "      <td id=\"T_09c6e_row7_col2\" class=\"data row7 col2\" >0.5244</td>\n",
       "      <td id=\"T_09c6e_row7_col3\" class=\"data row7 col3\" >0.9858</td>\n",
       "      <td id=\"T_09c6e_row7_col4\" class=\"data row7 col4\" >0.0702</td>\n",
       "      <td id=\"T_09c6e_row7_col5\" class=\"data row7 col5\" >0.0441</td>\n",
       "    </tr>\n",
       "    <tr>\n",
       "      <th id=\"T_09c6e_level0_row8\" class=\"row_heading level0 row8\" >8</th>\n",
       "      <td id=\"T_09c6e_row8_col0\" class=\"data row8 col0\" >0.4856</td>\n",
       "      <td id=\"T_09c6e_row8_col1\" class=\"data row8 col1\" >0.3812</td>\n",
       "      <td id=\"T_09c6e_row8_col2\" class=\"data row8 col2\" >0.6174</td>\n",
       "      <td id=\"T_09c6e_row8_col3\" class=\"data row8 col3\" >0.9886</td>\n",
       "      <td id=\"T_09c6e_row8_col4\" class=\"data row8 col4\" >0.0759</td>\n",
       "      <td id=\"T_09c6e_row8_col5\" class=\"data row8 col5\" >0.0451</td>\n",
       "    </tr>\n",
       "    <tr>\n",
       "      <th id=\"T_09c6e_level0_row9\" class=\"row_heading level0 row9\" >9</th>\n",
       "      <td id=\"T_09c6e_row9_col0\" class=\"data row9 col0\" >0.6183</td>\n",
       "      <td id=\"T_09c6e_row9_col1\" class=\"data row9 col1\" >0.6373</td>\n",
       "      <td id=\"T_09c6e_row9_col2\" class=\"data row9 col2\" >0.7983</td>\n",
       "      <td id=\"T_09c6e_row9_col3\" class=\"data row9 col3\" >0.9846</td>\n",
       "      <td id=\"T_09c6e_row9_col4\" class=\"data row9 col4\" >0.0470</td>\n",
       "      <td id=\"T_09c6e_row9_col5\" class=\"data row9 col5\" >0.0397</td>\n",
       "    </tr>\n",
       "    <tr>\n",
       "      <th id=\"T_09c6e_level0_row10\" class=\"row_heading level0 row10\" >Mean</th>\n",
       "      <td id=\"T_09c6e_row10_col0\" class=\"data row10 col0\" >0.4870</td>\n",
       "      <td id=\"T_09c6e_row10_col1\" class=\"data row10 col1\" >0.4736</td>\n",
       "      <td id=\"T_09c6e_row10_col2\" class=\"data row10 col2\" >0.6572</td>\n",
       "      <td id=\"T_09c6e_row10_col3\" class=\"data row10 col3\" >0.9818</td>\n",
       "      <td id=\"T_09c6e_row10_col4\" class=\"data row10 col4\" >0.0699</td>\n",
       "      <td id=\"T_09c6e_row10_col5\" class=\"data row10 col5\" >0.0568</td>\n",
       "    </tr>\n",
       "    <tr>\n",
       "      <th id=\"T_09c6e_level0_row11\" class=\"row_heading level0 row11\" >Std</th>\n",
       "      <td id=\"T_09c6e_row11_col0\" class=\"data row11 col0\" >0.1068</td>\n",
       "      <td id=\"T_09c6e_row11_col1\" class=\"data row11 col1\" >0.3358</td>\n",
       "      <td id=\"T_09c6e_row11_col2\" class=\"data row11 col2\" >0.2041</td>\n",
       "      <td id=\"T_09c6e_row11_col3\" class=\"data row11 col3\" >0.0095</td>\n",
       "      <td id=\"T_09c6e_row11_col4\" class=\"data row11 col4\" >0.0633</td>\n",
       "      <td id=\"T_09c6e_row11_col5\" class=\"data row11 col5\" >0.0559</td>\n",
       "    </tr>\n",
       "  </tbody>\n",
       "</table>\n"
      ],
      "text/plain": [
       "<pandas.io.formats.style.Styler at 0x25e6063ae90>"
      ]
     },
     "metadata": {},
     "output_type": "display_data"
    },
    {
     "data": {
      "application/vnd.jupyter.widget-view+json": {
       "model_id": "",
       "version_major": 2,
       "version_minor": 0
      },
      "text/plain": [
       "Processing:   0%|          | 0/4 [00:00<?, ?it/s]"
      ]
     },
     "metadata": {},
     "output_type": "display_data"
    },
    {
     "data": {
      "text/html": [
       "<style type=\"text/css\">\n",
       "</style>\n",
       "<table id=\"T_88d3f\">\n",
       "  <thead>\n",
       "    <tr>\n",
       "      <th class=\"blank level0\" >&nbsp;</th>\n",
       "      <th id=\"T_88d3f_level0_col0\" class=\"col_heading level0 col0\" >Model</th>\n",
       "      <th id=\"T_88d3f_level0_col1\" class=\"col_heading level0 col1\" >MAE</th>\n",
       "      <th id=\"T_88d3f_level0_col2\" class=\"col_heading level0 col2\" >MSE</th>\n",
       "      <th id=\"T_88d3f_level0_col3\" class=\"col_heading level0 col3\" >RMSE</th>\n",
       "      <th id=\"T_88d3f_level0_col4\" class=\"col_heading level0 col4\" >R2</th>\n",
       "      <th id=\"T_88d3f_level0_col5\" class=\"col_heading level0 col5\" >RMSLE</th>\n",
       "      <th id=\"T_88d3f_level0_col6\" class=\"col_heading level0 col6\" >MAPE</th>\n",
       "    </tr>\n",
       "  </thead>\n",
       "  <tbody>\n",
       "    <tr>\n",
       "      <th id=\"T_88d3f_level0_row0\" class=\"row_heading level0 row0\" >0</th>\n",
       "      <td id=\"T_88d3f_row0_col0\" class=\"data row0 col0\" >Extra Trees Regressor</td>\n",
       "      <td id=\"T_88d3f_row0_col1\" class=\"data row0 col1\" >0.0000</td>\n",
       "      <td id=\"T_88d3f_row0_col2\" class=\"data row0 col2\" >0.0000</td>\n",
       "      <td id=\"T_88d3f_row0_col3\" class=\"data row0 col3\" >0.0000</td>\n",
       "      <td id=\"T_88d3f_row0_col4\" class=\"data row0 col4\" >1.0000</td>\n",
       "      <td id=\"T_88d3f_row0_col5\" class=\"data row0 col5\" >0.0000</td>\n",
       "      <td id=\"T_88d3f_row0_col6\" class=\"data row0 col6\" >0.0000</td>\n",
       "    </tr>\n",
       "  </tbody>\n",
       "</table>\n"
      ],
      "text/plain": [
       "<pandas.io.formats.style.Styler at 0x25e605feec0>"
      ]
     },
     "metadata": {},
     "output_type": "display_data"
    }
   ],
   "source": [
    "etr = create_model('et')\n",
    "\n",
    "etr = finalize_model(etr)\n",
    "etr\n",
    "\n",
    "preds = predict_model(etr)"
   ]
  },
  {
   "cell_type": "code",
   "execution_count": 19,
   "id": "a64c2ade",
   "metadata": {},
   "outputs": [],
   "source": [
    "#Accuracy of the Model is 100%"
   ]
  },
  {
   "cell_type": "markdown",
   "id": "e7f2a764",
   "metadata": {},
   "source": [
    "# END"
   ]
  },
  {
   "cell_type": "code",
   "execution_count": null,
   "id": "bdfd47ef",
   "metadata": {},
   "outputs": [],
   "source": []
  }
 ],
 "metadata": {
  "kernelspec": {
   "display_name": "Python 3 (ipykernel)",
   "language": "python",
   "name": "python3"
  },
  "language_info": {
   "codemirror_mode": {
    "name": "ipython",
    "version": 3
   },
   "file_extension": ".py",
   "mimetype": "text/x-python",
   "name": "python",
   "nbconvert_exporter": "python",
   "pygments_lexer": "ipython3",
   "version": "3.10.9"
  }
 },
 "nbformat": 4,
 "nbformat_minor": 5
}
